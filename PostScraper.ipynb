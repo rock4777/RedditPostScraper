{
 "cells": [
  {
   "cell_type": "markdown",
   "metadata": {},
   "source": [
    "Python libraries."
   ]
  },
  {
   "cell_type": "code",
   "execution_count": 18,
   "metadata": {},
   "outputs": [],
   "source": [
    "import praw\n",
    "import pandas as pd\n",
    "from nltk.tokenize import WhitespaceTokenizer\n",
    "import re"
   ]
  },
  {
   "cell_type": "markdown",
   "metadata": {},
   "source": [
    "Configure PRAW library connection to Reddit API and bind instance to \"reddit\" variable."
   ]
  },
  {
   "cell_type": "code",
   "execution_count": 2,
   "metadata": {},
   "outputs": [],
   "source": [
    "reddit = praw.Reddit(client_id = \"OdtsOvr97jHWbkQt6_habg\", #peronal use script ID\n",
    "                    client_secret = \"xBTlIHnYgXrANCTDLP0ZCDupPfUNbg\", #secret token\n",
    "                    usernme = \"rock4777\", #profile username\n",
    "                    password = \"geckoman1995\", #profile password\n",
    "                    user_agent = \"USERAGENT\")"
   ]
  },
  {
   "cell_type": "markdown",
   "metadata": {},
   "source": [
    "Create empty lists to be filled with post data."
   ]
  },
  {
   "cell_type": "code",
   "execution_count": 3,
   "metadata": {},
   "outputs": [],
   "source": [
    "id_list = []\n",
    "title_list = []\n",
    "upvote_ratio_list = []\n",
    "score_list = []"
   ]
  },
  {
   "cell_type": "markdown",
   "metadata": {},
   "source": [
    "Loop through posts and fill lists."
   ]
  },
  {
   "cell_type": "code",
   "execution_count": 4,
   "metadata": {},
   "outputs": [
    {
     "name": "stdout",
     "output_type": "stream",
     "text": [
      "total 698 posts has been scraped\n"
     ]
    }
   ],
   "source": [
    "\n",
    "for submission in reddit.subreddit(\"wallstreetbets\").hot(limit = 10000):\n",
    "    id_list.append(submission.id)\n",
    "    title_list.append(submission.title)\n",
    "    score_list.append(submission.score)\n",
    "    upvote_ratio_list.append(submission.upvote_ratio)\n",
    "    \n",
    "print('total', len(title_list), 'posts has been scraped')"
   ]
  },
  {
   "cell_type": "markdown",
   "metadata": {},
   "source": [
    "Create data frame by combining all lists."
   ]
  },
  {
   "cell_type": "code",
   "execution_count": 5,
   "metadata": {},
   "outputs": [],
   "source": [
    "df = pd.DataFrame({'ID':id_list, \n",
    "                   'Title':title_list,\n",
    "                   'Upvote_Count':score_list,\n",
    "                   'Upvote_Ratio':upvote_ratio_list,\n",
    "                  })"
   ]
  },
  {
   "cell_type": "markdown",
   "metadata": {},
   "source": [
    "Tokenize post titles."
   ]
  },
  {
   "cell_type": "code",
   "execution_count": 13,
   "metadata": {},
   "outputs": [],
   "source": [
    "tk = WhitespaceTokenizer()\n",
    "token_list = []\n",
    "\n",
    "for row in df.itertuples():\n",
    "    tmp_list = tk.tokenize(row.Title)\n",
    "    token_list.extend(tmp_list)"
   ]
  },
  {
   "cell_type": "markdown",
   "metadata": {},
   "source": [
    "Remove all tokens that do not contain a \"$\"."
   ]
  },
  {
   "cell_type": "code",
   "execution_count": 14,
   "metadata": {},
   "outputs": [],
   "source": [
    "token_list = list(filter(lambda k: '$' in k, token_list))"
   ]
  },
  {
   "cell_type": "markdown",
   "metadata": {},
   "source": [
    "Function to check if a character is a number."
   ]
  },
  {
   "cell_type": "code",
   "execution_count": 15,
   "metadata": {},
   "outputs": [],
   "source": [
    "def containsNumber(value):\n",
    "    for character in value:\n",
    "        if character.isdigit():\n",
    "            return True\n",
    "    return False"
   ]
  },
  {
   "cell_type": "markdown",
   "metadata": {},
   "source": [
    "Remove all rows containing numbers."
   ]
  },
  {
   "cell_type": "code",
   "execution_count": 16,
   "metadata": {},
   "outputs": [],
   "source": [
    "ticker_list = []\n",
    "\n",
    "for token in token_list:\n",
    "    if containsNumber(token) == False:\n",
    "        ticker_list.append(token)\n",
    "        "
   ]
  },
  {
   "cell_type": "markdown",
   "metadata": {},
   "source": [
    "Upper case all tickers."
   ]
  },
  {
   "cell_type": "code",
   "execution_count": 17,
   "metadata": {},
   "outputs": [],
   "source": [
    "ticker_list = list(map(lambda x: x.upper(), ticker_list))"
   ]
  },
  {
   "cell_type": "markdown",
   "metadata": {},
   "source": [
    "Remove all remaining special characters."
   ]
  },
  {
   "cell_type": "code",
   "execution_count": 19,
   "metadata": {},
   "outputs": [],
   "source": [
    "for i, ticker in enumerate(ticker_list):\n",
    "    ticker_list[i] = re.sub('[^A-Za-z0-9]+', '', ticker)"
   ]
  },
  {
   "cell_type": "markdown",
   "metadata": {},
   "source": [
    "Remove any empty rows."
   ]
  },
  {
   "cell_type": "code",
   "execution_count": 20,
   "metadata": {},
   "outputs": [],
   "source": [
    "ticker_list = list(filter(None, ticker_list))"
   ]
  },
  {
   "cell_type": "markdown",
   "metadata": {},
   "source": [
    "Export as CSV."
   ]
  },
  {
   "cell_type": "code",
   "execution_count": 24,
   "metadata": {},
   "outputs": [],
   "source": [
    "export_df = pd.DataFrame(ticker_list) \n",
    "export_df.rename(columns = {0:'Ticker'}, inplace = True)\n",
    "export_df.to_csv('ticker_list.csv')"
   ]
  }
 ],
 "metadata": {
  "kernelspec": {
   "display_name": "Python 3",
   "language": "python",
   "name": "python3"
  },
  "language_info": {
   "codemirror_mode": {
    "name": "ipython",
    "version": 3
   },
   "file_extension": ".py",
   "mimetype": "text/x-python",
   "name": "python",
   "nbconvert_exporter": "python",
   "pygments_lexer": "ipython3",
   "version": "3.9.7"
  }
 },
 "nbformat": 4,
 "nbformat_minor": 4
}
