{
 "cells": [
  {
   "cell_type": "code",
   "execution_count": null,
   "metadata": {},
   "outputs": [],
   "source": [
    "import urllib3\n",
    "import json\n",
    "import certifi\n",
    "import pandas as pd\n",
    "import numpy as np\n",
    "import time\n",
    "import string\n",
    "import openpyxl\n",
    "from nltk.tokenize import word_tokenize\n",
    "from nltk.corpus import stopwords"
   ]
  },
  {
   "cell_type": "code",
   "execution_count": null,
   "metadata": {},
   "outputs": [],
   "source": [
    "def getRedditPosts(subReddit, loopCycle = 0):\n",
    "    #loop due to reddit 100 post limit\n",
    "    for i in range(loopCycle):\n",
    "        #reddit only accepts one request every 2 seconds, adds a delay between each loop\n",
    "        time.sleep(5)\n",
    "\n",
    "        #set URL based on loop\n",
    "        if i == 0:\n",
    "            requestUrl = 'http://www.reddit.com/r/' + subReddit + '/.json?sort=top&t;=thisweek&limit;=100'\n",
    "        else:    \n",
    "            last = rawData[-1]['data']['name']\n",
    "            requestUrl = 'https://www.reddit.com/r/' + subReddit + '/.json?sort=top&t;=thisweek&limit;=100&after;=%s' % last\n",
    "\n",
    "        #actual payload get\n",
    "        http = urllib3.PoolManager(cert_reqs='CERT_REQUIRED', ca_certs=certifi.where())\n",
    "        payload = http.request('GET', requestUrl)\n",
    "        rawDataTemp = json.loads(payload.data.decode('utf-8'))\n",
    "\n",
    "        #create initial json data or append\n",
    "        if i == 0:\n",
    "            rawData = rawDataTemp['data']['children']\n",
    "        else:    \n",
    "            rawData += rawDataTemp['data']['children']\n",
    "\n",
    "        return rawData"
   ]
  },
  {
   "cell_type": "code",
   "execution_count": null,
   "metadata": {},
   "outputs": [],
   "source": [
    "def cleanRedditData(rawData):\n",
    "    tmpList = []\n",
    "    dataNames = [value for value in rawData[0]['data']]\n",
    "    for i in range(0, len(rawData)):\n",
    "        dictionary = {}\n",
    "        for names in dataNames:\n",
    "            try:\n",
    "                dictionary[str(names)] = rawData[i]['data'][str(names)]\n",
    "            except:\n",
    "                dictionary[str(names)] = 'None'\n",
    "        tmpList.append(dictionary)\n",
    "        \n",
    "    return pd.DataFrame(tmpList)"
   ]
  },
  {
   "cell_type": "code",
   "execution_count": null,
   "metadata": {},
   "outputs": [],
   "source": [
    "def tokenizeColumn(df,column):\n",
    "    #prep string to tokenize\n",
    "    df.drop(df.columns.difference([column]), 1, inplace=True)\n",
    "    df[column] = df[column].str.lower()\n",
    "    df[column] = df[column].str.replace('[^a-zA-Z]', ' ')\n",
    "    df[column] = df[column].str.replace('[^\\w\\s]+', ' ')\n",
    "    tokens = [word_tokenize(i) for i in df[column]]\n",
    "    \n",
    "    return tokens"
   ]
  },
  {
   "cell_type": "code",
   "execution_count": null,
   "metadata": {},
   "outputs": [],
   "source": [
    "def normLanguage(tokens):\n",
    "    #clean tokenized data\n",
    "    df = pd.DataFrame(tokens)\n",
    "    df = pd.melt(df)\n",
    "    df.drop(columns=['variable'], inplace=True)\n",
    "    df['value'] = df['value'].str.strip()\n",
    "    df.dropna(inplace=True)\n",
    "\n",
    "    # filter out stop words\n",
    "    stopWords = set(stopwords.words('english'))\n",
    "    wordList = [w for w in df['value'] if not w in stopWords]\n",
    "    wordListDF = pd.DataFrame(wordList)\n",
    "    \n",
    "    return wordListDF"
   ]
  },
  {
   "cell_type": "code",
   "execution_count": null,
   "metadata": {},
   "outputs": [],
   "source": [
    "rawJSON = getRedditPosts('cars', 10)\n",
    "redditPostDF = cleanRedditData(rawJSON)\n",
    "tokenizedTitles = tokenizeColumn(redditPostDF,'title')\n",
    "wordList = normLanguage(tokenizedTitles)\n",
    "\n",
    "wordList.to_excel('CleanWordList.xlsx', engine='openpyxl')"
   ]
  }
 ],
 "metadata": {
  "kernelspec": {
   "display_name": "Python 3",
   "language": "python",
   "name": "python3"
  },
  "language_info": {
   "codemirror_mode": {
    "name": "ipython",
    "version": 3
   },
   "file_extension": ".py",
   "mimetype": "text/x-python",
   "name": "python",
   "nbconvert_exporter": "python",
   "pygments_lexer": "ipython3",
   "version": "3.9.0-final"
  }
 },
 "nbformat": 4,
 "nbformat_minor": 4
}