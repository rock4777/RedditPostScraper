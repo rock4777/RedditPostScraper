{
 "cells": [
  {
   "cell_type": "code",
   "execution_count": null,
   "metadata": {},
   "outputs": [],
   "source": [
    "import urllib3\n",
    "import json\n",
    "import certifi\n",
    "import pandas as pd\n",
    "import time\n",
    "import string\n",
    "from nltk.tokenize import word_tokenize\n",
    "from nltk.corpus import stopwords"
   ]
  },
  {
   "cell_type": "code",
   "execution_count": null,
   "metadata": {},
   "outputs": [],
   "source": [
    "#intial load\n",
    "http = urllib3.PoolManager(cert_reqs='CERT_REQUIRED', ca_certs=certifi.where())\n",
    "requestUrl = \"http://www.reddit.com/r/wallstreetbets/.json?sort=top&t;=thisweek&limit;=100\"\n",
    "payload = http.request('GET', requestUrl)\n",
    "rawDataTemp = json.loads(payload.data.decode('utf-8'))\n",
    "rawData = rawDataTemp['data']['children']"
   ]
  },
  {
   "cell_type": "code",
   "execution_count": null,
   "metadata": {},
   "outputs": [],
   "source": [
    "#loop due to reddit 100 post limit\n",
    "for i in range(10):\n",
    "    #reddit only accepts one request every 2 seconds, adds a delay between each loop\n",
    "    time.sleep(4)\n",
    "    last = rawData[-1]['data']['name']\n",
    "    http = urllib3.PoolManager(cert_reqs='CERT_REQUIRED', ca_certs=certifi.where())\n",
    "    requestUrl = 'https://www.reddit.com/r/wallstreetbets/.json?sort=top&t;=thisweek&limit;=100&after;=%s' % last\n",
    "    payload = http.request('GET', requestUrl)\n",
    "    rawDataTemp = json.loads(payload.data.decode('utf-8'))\n",
    "    rawData += rawDataTemp['data']['children']"
   ]
  },
  {
   "cell_type": "code",
   "execution_count": null,
   "metadata": {},
   "outputs": [],
   "source": [
    "dataNames = [value for value in rawData[0]['data']]"
   ]
  },
  {
   "cell_type": "code",
   "execution_count": null,
   "metadata": {},
   "outputs": [],
   "source": [
    "tmpList = []\n",
    "for i in range(0, len(rawData)):\n",
    "    dictionary = {}\n",
    "    for names in dataNames:\n",
    "        try:\n",
    "            dictionary[str(names)] = rawData[i]['data'][str(names)]\n",
    "        except:\n",
    "            dictionary[str(names)] = 'None'\n",
    "    tmpList.append(dictionary)\n",
    "df=pd.DataFrame(tmpList)"
   ]
  },
  {
   "cell_type": "code",
   "execution_count": null,
   "metadata": {},
   "outputs": [],
   "source": [
    "df.drop(df.columns.difference(['title']), 1, inplace=True)\n",
    "df['title'] = df['title'].str.upper()\n",
    "df['title'] = df['title'].str.replace('[^a-zA-Z]', ' ')\n",
    "df['title'] = df['title'].str.replace('[^\\w\\s]+', ' ')\n",
    "\n",
    "tokens = [word_tokenize(i) for i in df['title']]"
   ]
  },
  {
   "cell_type": "code",
   "execution_count": null,
   "metadata": {},
   "outputs": [],
   "source": [
    "dfTokens = pd.dataframe(tokens)\n",
    "tmpWordList = []\n",
    "\n",
    "for col in dfTokens:\n",
    "    tmpWordList.append(dfTokens[col])\n",
    "\n",
    "words = pd.DataFrame(tmpWordList)"
   ]
  },
  {
   "cell_type": "code",
   "execution_count": null,
   "metadata": {},
   "outputs": [],
   "source": [
    "# filter out stop words\n",
    "stopWords = set(stopwords.words('english'))\n",
    "words = [w for w in words if not w in stop_words]"
   ]
  }
 ],
 "metadata": {
  "kernelspec": {
   "display_name": "Python 3",
   "language": "python",
   "name": "python3"
  },
  "language_info": {
   "codemirror_mode": {
    "name": "ipython",
    "version": 3
   },
   "file_extension": ".py",
   "mimetype": "text/x-python",
   "name": "python",
   "nbconvert_exporter": "python",
   "pygments_lexer": "ipython3",
   "version": "3.9.0-final"
  }
 },
 "nbformat": 4,
 "nbformat_minor": 4
}