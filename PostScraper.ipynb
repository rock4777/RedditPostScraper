{
 "cells": [
  {
   "cell_type": "markdown",
   "metadata": {},
   "source": [
    "Python libraries."
   ]
  },
  {
   "cell_type": "code",
   "execution_count": 1,
   "metadata": {},
   "outputs": [],
   "source": [
    "import praw\n",
    "import pandas as pd"
   ]
  },
  {
   "cell_type": "markdown",
   "metadata": {},
   "source": [
    "Configure PRAW library connection to Reddit API and bind instance to \"reddit\" variable."
   ]
  },
  {
   "cell_type": "code",
   "execution_count": 2,
   "metadata": {},
   "outputs": [],
   "source": [
    "reddit = praw.Reddit(client_id = \"OdtsOvr97jHWbkQt6_habg\", #peronal use script ID\n",
    "                    client_secret = \"xBTlIHnYgXrANCTDLP0ZCDupPfUNbg\", #secret token\n",
    "                    usernme = \"rock4777\", #profile username\n",
    "                    password = \"geckoman1995\", #profile password\n",
    "                    user_agent = \"USERAGENT\")"
   ]
  },
  {
   "cell_type": "markdown",
   "metadata": {},
   "source": [
    "Create empty lists to be filled with post data."
   ]
  },
  {
   "cell_type": "code",
   "execution_count": 3,
   "metadata": {},
   "outputs": [],
   "source": [
    "id_list = []\n",
    "title_list = []\n",
    "upvote_ratio_list = []\n",
    "score_list = []"
   ]
  },
  {
   "cell_type": "markdown",
   "metadata": {},
   "source": [
    "Loop through posts and fill lists."
   ]
  },
  {
   "cell_type": "code",
   "execution_count": 4,
   "metadata": {},
   "outputs": [
    {
     "name": "stdout",
     "output_type": "stream",
     "text": [
      "total 699 posts has been scraped\n"
     ]
    }
   ],
   "source": [
    "\n",
    "for submission in reddit.subreddit(\"wallstreetbets\").hot(limit = 10000):\n",
    "    id_list.append(submission.id)\n",
    "    title_list.append(submission.title)\n",
    "    score_list.append(submission.score)\n",
    "    upvote_ratio_list.append(submission.upvote_ratio)\n",
    "    \n",
    "print('total', len(title_list), 'posts has been scraped')"
   ]
  },
  {
   "cell_type": "markdown",
   "metadata": {},
   "source": [
    "Create data frame by combining all lists."
   ]
  },
  {
   "cell_type": "code",
   "execution_count": 5,
   "metadata": {},
   "outputs": [],
   "source": [
    "df = pd.DataFrame({'ID':id_list, \n",
    "                   'Title':title_list,\n",
    "                   'Upvote_Count':score_list,\n",
    "                   'Upvote_Ratio':upvote_ratio_list,\n",
    "                  })\n",
    "# df.to_csv('reddit_dataset.csv', index = False)"
   ]
  }
 ],
 "metadata": {
  "kernelspec": {
   "display_name": "Python 3",
   "language": "python",
   "name": "python3"
  },
  "language_info": {
   "codemirror_mode": {
    "name": "ipython",
    "version": 3
   },
   "file_extension": ".py",
   "mimetype": "text/x-python",
   "name": "python",
   "nbconvert_exporter": "python",
   "pygments_lexer": "ipython3",
   "version": "3.9.7"
  }
 },
 "nbformat": 4,
 "nbformat_minor": 4
}
